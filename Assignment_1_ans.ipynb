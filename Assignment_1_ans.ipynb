{
 "cells": [
  {
   "cell_type": "markdown",
   "id": "8eeccf5f",
   "metadata": {},
   "source": [
    "#### 1) Write a program to read Celsius temperature and print equivalent Fahrenheit temperate on screen"
   ]
  },
  {
   "cell_type": "code",
   "execution_count": 2,
   "id": "a6850f52",
   "metadata": {},
   "outputs": [
    {
     "name": "stdout",
     "output_type": "stream",
     "text": [
      "Enter the temperature in Celcius: 50\n",
      "Temperature in Fahrenheit:  122.0\n"
     ]
    }
   ],
   "source": [
    "temp_in_celcius = int(input(\"Enter the temperature in Celcius: \"))\n",
    "\n",
    "# Fahrenheit (°F) = (Temperature in degrees Celsius (°C) * 9/5) + 32\n",
    "\n",
    "temp_in_fahrenheit = (temp_in_celcius * 9/5) + 32\n",
    "\n",
    "print(\"Temperature in Fahrenheit: \", temp_in_fahrenheit)"
   ]
  },
  {
   "cell_type": "markdown",
   "id": "0176cb64",
   "metadata": {},
   "source": [
    "#### 2) Read radius of the circle from user and find the area and perimeter of it"
   ]
  },
  {
   "cell_type": "code",
   "execution_count": 4,
   "id": "fef34965",
   "metadata": {},
   "outputs": [
    {
     "name": "stdout",
     "output_type": "stream",
     "text": [
      "Enter the radius of the circle: 5\n",
      "Area of a Circle:  78.53981633974483\n",
      "Perimeter of a Circle:  31.41592653589793\n"
     ]
    }
   ],
   "source": [
    "import math\n",
    "\n",
    "radius = int(input(\"Enter the radius of the circle: \"))\n",
    "\n",
    "# Area = π × r2\n",
    "area = math.pi * radius * radius\n",
    "print(\"Area of a Circle: \", area)\n",
    "\n",
    "# The Circumference (or) perimeter of circle = 2πR\n",
    "\n",
    "perimeter = 2 * math.pi * radius\n",
    "print(\"Perimeter of a Circle: \", perimeter)"
   ]
  },
  {
   "cell_type": "markdown",
   "id": "950b1918",
   "metadata": {},
   "source": [
    "#### 3) Read the amount and percentage of interest from the keyboard and find final amount after adding interest in original amount"
   ]
  },
  {
   "cell_type": "code",
   "execution_count": 7,
   "id": "d74566ee",
   "metadata": {},
   "outputs": [
    {
     "name": "stdout",
     "output_type": "stream",
     "text": [
      "Enter the amount: 500\n",
      "Enter the percentage of interest: 10.5\n",
      "Final amount:  510.5\n"
     ]
    }
   ],
   "source": [
    "amount = int(input(\"Enter the amount: \"))\n",
    "interest_percentage = float(input(\"Enter the percentage of interest: \"))\n",
    "\n",
    "\n",
    "print(\"Final amount: \", amount + interest_percentage) "
   ]
  },
  {
   "cell_type": "markdown",
   "id": "e2396e89",
   "metadata": {},
   "source": [
    "#### 4) Write a program to read distance value in meters and convert it into centimeters, inches, and yards"
   ]
  },
  {
   "cell_type": "code",
   "execution_count": 8,
   "id": "e581ec0d",
   "metadata": {},
   "outputs": [
    {
     "name": "stdout",
     "output_type": "stream",
     "text": [
      "Enter the  distance value in meters: 5\n",
      "Distance value in centimeters:  500\n",
      "Distance value in inches:  196.29999999999998\n",
      "Distance value in yards:  5.468\n"
     ]
    }
   ],
   "source": [
    "dist_meter = int(input(\"Enter the  distance value in meters: \"))\n",
    "\n",
    "print(\"Distance value in centimeters: \", dist_meter * 100) \n",
    "print(\"Distance value in inches: \", dist_meter * 39.26) \n",
    "print(\"Distance value in yards: \", dist_meter * 1.0936) "
   ]
  },
  {
   "cell_type": "markdown",
   "id": "d39276b3",
   "metadata": {},
   "source": [
    "#### 5) Write a Python program to calculate profit or loss. Input is selling cost and actual cost of a product"
   ]
  },
  {
   "cell_type": "code",
   "execution_count": 16,
   "id": "804ce3f8",
   "metadata": {},
   "outputs": [
    {
     "name": "stdout",
     "output_type": "stream",
     "text": [
      "Enter the actual cost of a product: 500\n",
      "Enter the selling cost of a product: 500\n",
      "No Profit No Loss\n"
     ]
    }
   ],
   "source": [
    "actual_cost_of_a_product = int(input(\"Enter the actual cost of a product: \"))\n",
    "selling_cost_of_a_product = int(input(\"Enter the selling cost of a product: \"))\n",
    "\n",
    "# Profit = Selling Price (S.P.) - Cost Price (C.P.)\n",
    "# Loss = C.P. – S.P.\n",
    "\n",
    "if (selling_cost_of_a_product > actual_cost_of_a_product):\n",
    "    loss = 0\n",
    "    profit = selling_cost_of_a_product - actual_cost_of_a_product    \n",
    "    print(\"Profit: \", profit) \n",
    "    print(\"Loss: \", loss)\n",
    "elif (selling_cost_of_a_product < actual_cost_of_a_product):\n",
    "    profit = 0\n",
    "    loss =  actual_cost_of_a_product - selling_cost_of_a_product\n",
    "    print(\"Loss: \", loss) \n",
    "    print(\"Profit: \", profit) \n",
    "else:\n",
    "    print(\"No Profit, No Loss\") "
   ]
  },
  {
   "cell_type": "markdown",
   "id": "9a1a70a1",
   "metadata": {},
   "source": [
    "#### 6) Write a program to input basic salary and find output of gross salary using following:"
   ]
  },
  {
   "cell_type": "code",
   "execution_count": 22,
   "id": "1c48f8ab",
   "metadata": {},
   "outputs": [
    {
     "name": "stdout",
     "output_type": "stream",
     "text": [
      "Enter the input basic salary: 24000\n",
      "Gross salary:  46800.0\n"
     ]
    }
   ],
   "source": [
    "basic_salary = int(input(\"Enter the input basic salary: \"))\n",
    "\n",
    "# DA = 75% of basic\n",
    "da = 75/100 * basic_salary\n",
    "\n",
    "# HRA = 20% of basic\n",
    "hra = 20/100 * basic_salary\n",
    "\n",
    "# Conditions:\n",
    "# Basic < 10000 : gross = da + basic\n",
    "# Basic >= 10000 and < 20000 : gross = da + basic + 50% of hra\n",
    "# Basic >= 20000 : gross = basic + da + hra\n",
    "\n",
    "if (basic_salary < 10000): \n",
    "    gross_salary = da + basic_salary\n",
    "elif (basic_salary >= 10000 and basic_salary < 20000):\n",
    "    gross_salary = da + basic_salary + 50/100 * hra\n",
    "elif (basic_salary >= 20000):\n",
    "    gross_salary = basic_salary + da + hra\n",
    "\n",
    "print(\"Gross salary: \", gross_salary)"
   ]
  },
  {
   "cell_type": "markdown",
   "id": "0d00a0ac",
   "metadata": {},
   "source": [
    "#### 7) Write a program to read a number from user and find the factorial of the number. Example: Factorial for 5 = 5 x 4 x 3 x 2 x 1 = 120"
   ]
  },
  {
   "cell_type": "code",
   "execution_count": 52,
   "id": "daf5caaf",
   "metadata": {},
   "outputs": [
    {
     "name": "stdout",
     "output_type": "stream",
     "text": [
      "Enter the number: 5\n",
      "Factorial for the number :  120\n"
     ]
    }
   ],
   "source": [
    "num = int(input(\"Enter the number: \"))\n",
    "fact = 1\n",
    "\n",
    "if (num == 1 or num == 0):\n",
    "    print(\"Enter number greater than 1\")\n",
    "else:   \n",
    "    fact = num\n",
    "    while (num > 1):            \n",
    "            fact = fact * (num -1)             \n",
    "            num = num - 1  \n",
    "\n",
    "    print(\"Factorial for the number : \", fact)"
   ]
  },
  {
   "cell_type": "markdown",
   "id": "c2b82ab9",
   "metadata": {},
   "source": [
    "#### 8) Write a program to read num1 and num2 from keyboard and find addition of all number between that range"
   ]
  },
  {
   "cell_type": "code",
   "execution_count": 64,
   "id": "5d93138c",
   "metadata": {},
   "outputs": [
    {
     "name": "stdout",
     "output_type": "stream",
     "text": [
      "Enter the number 1: 4\n",
      "Enter the number 2: 6\n",
      "Addition in the range is:  15\n"
     ]
    }
   ],
   "source": [
    "num1 = int(input(\"Enter the number 1: \"))\n",
    "num2 = int(input(\"Enter the number 2: \"))\n",
    "add = 0\n",
    "\n",
    "for n in range(1,6):\n",
    "    add = add + n    \n",
    "print(\"Addition in the range is: \", add)"
   ]
  },
  {
   "cell_type": "markdown",
   "id": "dbca5ac1",
   "metadata": {},
   "source": [
    "#### 9) See the tuple given: num = (56,2,35,41,43,48,32,56,71,55,68) Write a program to create two lists from it where first list contains only even numbers and second will contain only odd numbers."
   ]
  },
  {
   "cell_type": "code",
   "execution_count": 67,
   "id": "4b50402e",
   "metadata": {},
   "outputs": [
    {
     "name": "stdout",
     "output_type": "stream",
     "text": [
      "Even list:  [56, 2, 48, 32, 56, 68]\n",
      "Odd list:  [35, 41, 43, 71, 55]\n"
     ]
    }
   ],
   "source": [
    "num = (56,2,35,41,43,48,32,56,71,55,68)\n",
    "\n",
    "even_list = []\n",
    "odd_list = []\n",
    " \n",
    "for i in num:\n",
    "    if(i % 2) == 0:\n",
    "        even_list.append(i)\n",
    "    else:\n",
    "        odd_list.append(i)\n",
    "        \n",
    "print(\"Even list: \", even_list)\n",
    "print(\"Odd list: \", odd_list)"
   ]
  },
  {
   "cell_type": "markdown",
   "id": "c8e9284c",
   "metadata": {},
   "source": [
    "#### 10) Write a program to read a number from user. Create and use a user defined function to check whether it is odd or even?"
   ]
  },
  {
   "cell_type": "code",
   "execution_count": 70,
   "id": "585747aa",
   "metadata": {},
   "outputs": [
    {
     "name": "stdout",
     "output_type": "stream",
     "text": [
      "Enter the number: 2\n",
      "Given number is:  even\n"
     ]
    }
   ],
   "source": [
    "num = int(input(\"Enter the number: \"))\n",
    "\n",
    "def fnCheckEvenOdd(num):    \n",
    "    if(num % 2) == 0:\n",
    "        return \"even\"\n",
    "    else:\n",
    "        return \"odd\"\n",
    "\n",
    "result = fnCheckEvenOdd(num)\n",
    "\n",
    "print(\"Given number is: \", result)"
   ]
  },
  {
   "cell_type": "markdown",
   "id": "a96ee6df",
   "metadata": {},
   "source": [
    "#### 11) Write a program to read a number from user and find the square root, sin, tan, log and factorial of this number using math module."
   ]
  },
  {
   "cell_type": "code",
   "execution_count": 71,
   "id": "1478dbde",
   "metadata": {},
   "outputs": [
    {
     "name": "stdout",
     "output_type": "stream",
     "text": [
      "Enter the number: 5\n",
      "square root of number is:  2.23606797749979\n",
      "sin of number is:  -0.9589242746631385\n",
      "tan of number is:  -3.380515006246586\n",
      "log of number is:  1.6094379124341003\n",
      "factorial of number is:  120\n"
     ]
    }
   ],
   "source": [
    "import math\n",
    "\n",
    "num = int(input(\"Enter the number: \"))\n",
    "\n",
    "print(\"square root of number is: \", math.sqrt(num))\n",
    "print(\"sin of number is: \", math.sin(num))\n",
    "print(\"tan of number is: \", math.tan(num))\n",
    "print(\"log of number is: \", math.log(num))\n",
    "print(\"factorial of number is: \", math.factorial(num))"
   ]
  },
  {
   "cell_type": "markdown",
   "id": "066dd982",
   "metadata": {},
   "source": [
    "#### 12) Write a Python class named ‘Rectangle’ with two attributes length and width and a method named ‘calculate’ which will compute the area of a rectangle. Create an object to pass length and width and call the method to calculate the area of rectangle."
   ]
  },
  {
   "cell_type": "code",
   "execution_count": 78,
   "id": "5c763942",
   "metadata": {},
   "outputs": [],
   "source": [
    "class Rectangle:\n",
    "    # constructor\n",
    "    def __init__(self, lent, widt):\n",
    "        self.length = lent \n",
    "        self.width = widt \n",
    "    \n",
    "    def calculate(self):\n",
    "        area = self.length * self.width\n",
    "        return area     "
   ]
  },
  {
   "cell_type": "code",
   "execution_count": 79,
   "id": "62833c56",
   "metadata": {},
   "outputs": [
    {
     "name": "stdout",
     "output_type": "stream",
     "text": [
      "Area of Rectangle is:  20\n"
     ]
    }
   ],
   "source": [
    "#create the object\n",
    "ob1 = Rectangle(5, 4) \n",
    "area = ob1.calculate()\n",
    "\n",
    "print(\"Area of Rectangle is: \", area)"
   ]
  },
  {
   "cell_type": "code",
   "execution_count": null,
   "id": "7b660d91",
   "metadata": {},
   "outputs": [],
   "source": []
  }
 ],
 "metadata": {
  "kernelspec": {
   "display_name": "Python 3 (ipykernel)",
   "language": "python",
   "name": "python3"
  },
  "language_info": {
   "codemirror_mode": {
    "name": "ipython",
    "version": 3
   },
   "file_extension": ".py",
   "mimetype": "text/x-python",
   "name": "python",
   "nbconvert_exporter": "python",
   "pygments_lexer": "ipython3",
   "version": "3.9.12"
  }
 },
 "nbformat": 4,
 "nbformat_minor": 5
}
